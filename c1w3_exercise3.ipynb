{
 "cells": [
  {
   "cell_type": "markdown",
   "metadata": {
    "colab_type": "text",
    "id": "iQjHqsmTAVLU"
   },
   "source": [
    "## Exercise 3\n",
    "In the videos you looked at how you would improve Fashion MNIST using Convolutions. For your exercise see if you can improve MNIST to 99.8% accuracy or more using only a single convolutional layer and a single MaxPooling 2D. You should stop training once the accuracy goes above this amount. It should happen in less than 20 epochs, so it's ok to hard code the number of epochs for training, but your training must end once it hits the above metric. If it doesn't, then you'll need to redesign your layers.\n",
    "\n",
    "I've started the code for you -- you need to finish it!\n",
    "\n",
    "When 99.8% accuracy has been hit, you should print out the string \"Reached 99.8% accuracy so cancelling training!\"\n"
   ]
  },
  {
   "cell_type": "code",
   "execution_count": 11,
   "metadata": {},
   "outputs": [],
   "source": [
    "import tensorflow as tf\n",
    "from os import path, getcwd, chdir\n",
    "\n",
    "# DO NOT CHANGE THE LINE BELOW. If you are developing in a local\n",
    "# environment, then grab mnist.npz from the Coursera Jupyter Notebook\n",
    "# and place it inside a local folder and edit the path to that location\n",
    "path = f\"{getcwd()}/../../../mnist.npz\""
   ]
  },
  {
   "cell_type": "code",
   "execution_count": 21,
   "metadata": {},
   "outputs": [],
   "source": [
    "# GRADED FUNCTION: train_mnist_conv\n",
    "def train_mnist_conv():\n",
    "    # Please write your code only where you are indicated.\n",
    "    # please do not remove model fitting inline comments.\n",
    "\n",
    "    # YOUR CODE STARTS HERE\n",
    "    class myCallback(tf.keras.callbacks.Callback):\n",
    "        def on_epoch_end(self, epoch, logs={}):\n",
    "            if (logs.get('accuracy') > 0.998):\n",
    "                print('\\nAccuracy is higher than 99.8%, cancelling training.')\n",
    "                self.model.stop_training = True\n",
    "            \n",
    "    #instantiate the class\n",
    "    callbacks = myCallback()\n",
    "    # YOUR CODE ENDS HERE\n",
    "\n",
    "    mnist = tf.keras.datasets.mnist\n",
    "    (training_images, training_labels), (test_images, test_labels) = mnist.load_data(path=path)\n",
    "    # YOUR CODE STARTS HERE\n",
    "    training_images = training_images / 255\n",
    "    test_images = test_images / 255\n",
    "    # YOUR CODE ENDS HERE\n",
    "\n",
    "    model = tf.keras.models.Sequential([\n",
    "            # YOUR CODE STARTS HERE\n",
    "            # Try to simplify the architecture as much as possible. You can reach the target accuracy\n",
    "            # with just a single convolution and max pooling followed by the usual flatten and dense layers.\n",
    "            # If you get grader timeouts in your submission, try to minimize the number of convolution filters \n",
    "            # and dense units.\n",
    "            tf.keras.layers.Conv2D(64,(3,3), activation = 'relu', input_shape=(28,28,1)),\n",
    "            tf.keras.layers.MaxPool2D(2,2),\n",
    "            # old layers\n",
    "            tf.keras.layers.Flatten(input_shape=(28,28)),\n",
    "            tf.keras.layers.Dense(256, activation=tf.nn.relu),\n",
    "            tf.keras.layers.Dense(128, activation=tf.nn.relu),\n",
    "            tf.keras.layers.Dense(10, activation=tf.nn.softmax)\n",
    "            # YOUR CODE ENDS HERE\n",
    "    ])\n",
    "\n",
    "    model.compile(optimizer='adam', loss='sparse_categorical_crossentropy', metrics=['accuracy'])\n",
    "    # model fitting\n",
    "    history = model.fit(\n",
    "        # YOUR CODE STARTS HERE\n",
    "        # Remember to set a callback function to stop the training when the target accuracy is reached. \n",
    "        # It should be met in less than 20 epochs.\n",
    "        training_images, training_labels,\n",
    "        epochs=20,\n",
    "        callbacks=[callbacks]\n",
    "        # YOUR CODE ENDS HERE\n",
    "    )\n",
    "    # model fitting\n",
    "    return history.epoch, history.history['accuracy'][-1]\n"
   ]
  },
  {
   "cell_type": "code",
   "execution_count": 22,
   "metadata": {},
   "outputs": [
    {
     "name": "stdout",
     "output_type": "stream",
     "text": [
      "Epoch 1/20\n",
      "1875/1875 [==============================] - 2s 714us/step - loss: 0.1312 - accuracy: 0.9596\n",
      "Epoch 2/20\n",
      "1875/1875 [==============================] - 1s 730us/step - loss: 0.0438 - accuracy: 0.9869\n",
      "Epoch 3/20\n",
      "1875/1875 [==============================] - 1s 765us/step - loss: 0.0272 - accuracy: 0.9913\n",
      "Epoch 4/20\n",
      "1875/1875 [==============================] - 1s 757us/step - loss: 0.0185 - accuracy: 0.9939\n",
      "Epoch 5/20\n",
      "1875/1875 [==============================] - 1s 772us/step - loss: 0.0129 - accuracy: 0.9958\n",
      "Epoch 6/20\n",
      "1875/1875 [==============================] - 1s 781us/step - loss: 0.0100 - accuracy: 0.9966\n",
      "Epoch 7/20\n",
      "1875/1875 [==============================] - 1s 773us/step - loss: 0.0083 - accuracy: 0.9973\n",
      "Epoch 8/20\n",
      "1875/1875 [==============================] - 1s 744us/step - loss: 0.0067 - accuracy: 0.9978\n",
      "Epoch 9/20\n",
      "1875/1875 [==============================] - 1s 799us/step - loss: 0.0063 - accuracy: 0.9978\n",
      "Epoch 10/20\n",
      "1875/1875 [==============================] - 1s 774us/step - loss: 0.0078 - accuracy: 0.9980\n",
      "Epoch 11/20\n",
      "1814/1875 [============================>.] - ETA: 0s - loss: 0.0050 - accuracy: 0.9986\n",
      "Accuracy is higher than 99.8%, cancelling training.\n",
      "1875/1875 [==============================] - 1s 750us/step - loss: 0.0053 - accuracy: 0.9985\n"
     ]
    }
   ],
   "source": [
    "_, _ = train_mnist_conv()"
   ]
  },
  {
   "cell_type": "code",
   "execution_count": 25,
   "metadata": {},
   "outputs": [],
   "source": [
    "# Now click the 'Submit Assignment' button above.\n",
    "# Once that is complete, please run the following two cells to save your work and close the notebook"
   ]
  },
  {
   "cell_type": "code",
   "execution_count": 26,
   "metadata": {},
   "outputs": [],
   "source": [
    "%%javascript\n",
    "<!-- Save the notebook -->\n",
    "IPython.notebook.save_checkpoint();"
   ]
  },
  {
   "cell_type": "code",
   "execution_count": null,
   "metadata": {},
   "outputs": [],
   "source": [
    "%%javascript\n",
    "IPython.notebook.session.delete();\n",
    "window.onbeforeunload = null\n",
    "setTimeout(function() { window.close(); }, 1000);"
   ]
  }
 ],
 "metadata": {
  "coursera": {
   "course_slug": "introduction-tensorflow",
   "graded_item_id": "ml06H",
   "launcher_item_id": "hQF8A"
  },
  "kernelspec": {
   "display_name": "Python 3 (ipykernel)",
   "language": "python",
   "name": "python3"
  },
  "language_info": {
   "codemirror_mode": {
    "name": "ipython",
    "version": 3
   },
   "file_extension": ".py",
   "mimetype": "text/x-python",
   "name": "python",
   "nbconvert_exporter": "python",
   "pygments_lexer": "ipython3",
   "version": "3.10.9"
  }
 },
 "nbformat": 4,
 "nbformat_minor": 1
}
